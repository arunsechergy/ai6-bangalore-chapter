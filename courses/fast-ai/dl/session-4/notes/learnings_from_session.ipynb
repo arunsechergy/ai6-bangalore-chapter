{
  "nbformat": 4,
  "nbformat_minor": 0,
  "metadata": {
    "colab": {
      "name": "learnings-from-session.ipynb",
      "version": "0.3.2",
      "provenance": [],
      "include_colab_link": true
    },
    "kernelspec": {
      "name": "python3",
      "display_name": "Python 3"
    }
  },
  "cells": [
    {
      "cell_type": "markdown",
      "metadata": {
        "id": "view-in-github",
        "colab_type": "text"
      },
      "source": [
        "[View in Colaboratory](https://colab.research.google.com/github/arunsechergy/ai6-bangalore-chapter/blob/master/learnings_from_session.ipynb)"
      ]
    },
    {
      "metadata": {
        "id": "zLZLDIcY6ca1",
        "colab_type": "text"
      },
      "cell_type": "markdown",
      "source": [
        "**Application on GAN**\n",
        "\n",
        "---\n",
        "\n",
        "Everybody Dance Now: https://hybridtechcar.com/2018/08/27/neural-network-will-make-a-person-dance-on-video-even-if-he-is-a-bad-dancer/\n",
        "\n"
      ]
    }
  ]
}